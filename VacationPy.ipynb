{
 "cells": [
  {
   "cell_type": "markdown",
   "metadata": {},
   "source": [
    "# VacationPy\n",
    "----\n",
    "\n",
    "#### Note\n",
    "* Keep an eye on your API usage. Use https://developers.google.com/maps/reporting/gmp-reporting as reference for how to monitor your usage and billing.\n",
    "\n",
    "* Instructions have been included for each segment. You do not have to follow them exactly, but they are included to help you think through the steps."
   ]
  },
  {
   "cell_type": "code",
   "execution_count": null,
   "metadata": {},
   "outputs": [],
   "source": [
    "# Dependencies and Setup\n",
    "import matplotlib.pyplot as plt\n",
    "import pandas as pd\n",
    "import numpy as np\n",
    "import requests\n",
    "import gmaps\n",
    "import os\n",
    "\n",
    "# Import API key\n",
    "from api_keys import g_key"
   ]
  },
  {
   "cell_type": "markdown",
   "metadata": {},
   "source": [
    "### Store Part I results into DataFrame\n",
    "* Load the csv exported in Part I to a DataFrame"
   ]
  },
  {
   "cell_type": "code",
   "execution_count": null,
   "metadata": {},
   "outputs": [],
   "source": [
    "#path to file\n",
    "city_csvfile = \"../output_data/city_data_df.csv\"\n",
    "\n",
    "#read file\n",
    "city_df =pd.read_csv(city_csvfile)\n",
    "\n",
    "#print\n",
    "city_df.head()"
   ]
  },
  {
   "cell_type": "markdown",
   "metadata": {},
   "source": [
    "### Humidity Heatmap\n",
    "* Configure gmaps.\n",
    "* Use the Lat and Lng as locations and Humidity as the weight.\n",
    "* Add Heatmap layer to map."
   ]
  },
  {
   "cell_type": "code",
   "execution_count": null,
   "metadata": {},
   "outputs": [],
   "source": [
    "# getting info from API key\n",
    "gmaps.configure(api_key=g_key)\n",
    "fig map = gmaps.figure()\n",
    "\n",
    "#set idea conditions (max temp 70 to 80, wind speed less than 10 and zero clouds)\n",
    "# https link\n",
    "city_coordinates = city_df[['Lat', 'Lng']].astype(float)\n",
    "\n",
    "#idea_cond_df = main_df\n",
    "#print coordinates\n",
    "#city_coordinates\n",
    "\n",
    "# make humidity list \n",
    "humidity_list = city_df['Humidity'].astype(int)"
   ]
  },
  {
   "cell_type": "code",
   "execution_count": null,
   "metadata": {},
   "outputs": [],
   "source": [
    "#setup humity heatmap layer\n",
    "fig_map - gmaps.figure(map_type = 'TERRAIN')\n",
    "\n",
    "#setup locations\n",
    "heatmap_layer = gmaps.heatmap_layer(lacations, weights=humdidity_list, dissipating=False, max_intensity=100, point_radius = 2)\n",
    "\n",
    "#add layers\n",
    "fig_map.add_layer(heatmap_layer)\n",
    "\n",
    "#print humidity list\n",
    "humd_list"
   ]
  },
  {
   "cell_type": "markdown",
   "metadata": {},
   "source": [
    "### Create new DataFrame fitting weather criteria\n",
    "* Narrow down the cities to fit weather conditions.\n",
    "* Drop any rows will null values."
   ]
  },
  {
   "cell_type": "code",
   "execution_count": null,
   "metadata": {},
   "outputs": [],
   "source": [
    "#drop cities with a max temperature lower than 80 degrees but higher than 70.\n",
    "cities_df = cities_df.drop(cities_df[(cities_df['Max Temp']>=80)].index)\n",
    "cities_df = cities_df.drop(cities_df[(cities_df['Max Temp']<=70)].index)\n",
    "\n",
    "#drop cities with wind speed less than 10 mph.\n",
    "cities_df = cities_df.drop(cities_df[(cities_df['Wind Speed']>=10)].index)\n",
    "\n",
    "#drop cities with cloudiness.\n",
    "hotel_df = cities_df.drop(cities_df[(cities_df['Cloudiness']>0)].index)\n",
    "\n",
    "#print results\n",
    "hotel_df"
   ]
  },
  {
   "cell_type": "code",
   "execution_count": null,
   "metadata": {},
   "outputs": [],
   "source": [
    "#setup city list\n",
    "city_list = list(hotel_df['City'])\n",
    "\n",
    "#Print\n",
    "city_list"
   ]
  },
  {
   "cell_type": "code",
   "execution_count": null,
   "metadata": {},
   "outputs": [],
   "source": [
    "#params dictionary\n",
    "params = {'radius' :5000,\n",
    "         'keyword': 'lodging',\n",
    "         'key' : g_key}\n",
    "\n",
    "#for loop to find hotel info for the ideal conditions on dataframe\n",
    "for index, row in hotel_df.iterrows():\n",
    "    \n",
    "    #getting Lat and Lng from df\n",
    "    lat = row['Lat']\n",
    "    lng = row['Lng']\n",
    "    \n",
    "    #change location each iteration while leaving original params in place\n",
    "    params[\"location\"] = f\"{lat},{lng}\"\n",
    "    \n",
    "    #getting url\n",
    "    url =\"https://maps.googleapis.com/maps/api/place/nearbysearch/json\"\n",
    "    \n",
    "    #(params ['key'])\n",
    "    response = requests.get(url, params=params)\n",
    "    \n",
    "    #convert to json\n",
    "    results = response.json()\n",
    "    \n",
    "    #hotels = results['results']\n",
    "    try:\n",
    "        print(f\"{results['results'][0]['name']} is the closest to lodging.\")\n",
    "        hotel_df.loc[index, 'Hotel_Name'] = results['results'][0]['name']\n",
    "        \n",
    "    except (KeyError, IndexError):\n",
    "        \n",
    "        #print\n",
    "        print(\"Error found skipping\")"
   ]
  },
  {
   "cell_type": "markdown",
   "metadata": {},
   "source": [
    "### Hotel Map\n",
    "* Store into variable named `hotel_df`.\n",
    "* Add a \"Hotel Name\" column to the DataFrame.\n",
    "* Set parameters to search for hotels with 5000 meters.\n",
    "* Hit the Google Places API for each city's coordinates.\n",
    "* Store the first Hotel result into the DataFrame.\n",
    "* Plot markers on top of the heatmap."
   ]
  },
  {
   "cell_type": "code",
   "execution_count": null,
   "metadata": {},
   "outputs": [],
   "source": [
    "#Drop unwanted hotels\n",
    "hotel_df = hotel_df.drop(hotel_df[(hotel_df['Hotel_Name'] == \"\")].index)\n",
    "\n",
    "#print\n",
    "hotel_df"
   ]
  },
  {
   "cell_type": "code",
   "execution_count": null,
   "metadata": {},
   "outputs": [],
   "source": [
    "#for loop to find hotel info for the idea conditions on dataframe\n",
    "for index, row in idea_cond_df.inerrows():\n",
    "    lat = row['Lat']\n",
    "    lng = row['Lng']\n",
    "    \n",
    "    #change location each iteration while leaving original params in place\n",
    "    parans['location'] =f\"{lat},{lng}\"\n",
    "    \n",
    "    #getting url\n",
    "    url =\"http://maps.googleapis.com/map/api/place/nearbysearch/json\"\n",
    "    \n",
    "    #(params ['key'])\n",
    "    results = requests.get(url, params = parmas).json()\n",
    "    hotels = results['results']\n",
    "    \n",
    "     #condition = results['results']\n",
    "    try:\n",
    "        print(f\"{hotels[0]['name']} is the closest to lodging.\")\n",
    "        idea_cond_df.loc[index, 'Hotel Name'] = hotels[0]['name']\n",
    "        \n",
    "    except (KeyError, IndexError):\n",
    "        print(\"Error found skipping\")\n",
    "#print       \n",
    "hotel_df = idea_cond_df\n",
    "hotel_df.head()"
   ]
  },
  {
   "cell_type": "code",
   "execution_count": null,
   "metadata": {},
   "outputs": [],
   "source": [
    "# NOTE: Do not change any of the code in this cell\n",
    "\n",
    "# Using the template add the hotel marks to the heatmap\n",
    "info_box_template = \"\"\"\n",
    "<dl>\n",
    "<dt>Name</dt><dd>{Hotel Name}</dd>\n",
    "<dt>City</dt><dd>{City}</dd>\n",
    "<dt>Country</dt><dd>{Country}</dd>\n",
    "</dl>\n",
    "\"\"\"\n",
    "# Store the DataFrame Row\n",
    "# NOTE: be sure to update with your DataFrame name\n",
    "hotel_info = [info_box_template.format(**row) for index, row in hotel_df.iterrows()]\n",
    "locations = hotel_df[[\"Lat\", \"Lng\"]]"
   ]
  },
  {
   "cell_type": "code",
   "execution_count": null,
   "metadata": {},
   "outputs": [],
   "source": [
    "# Add hotel marker layer ontop of heat map\n",
    "marker = gmaps.marker_layer(locations, info_box_content=hotel_info)\n",
    "fig_map.add_layer(marker_layer)\n",
    "\n",
    "# Display figure\n",
    "fig_map"
   ]
  }
 ],
 "metadata": {
  "kernelspec": {
   "display_name": "Python [conda env:PythonData]",
   "language": "python",
   "name": "conda-env-PythonData-py"
  },
  "language_info": {
   "codemirror_mode": {
    "name": "ipython",
    "version": 3
   },
   "file_extension": ".py",
   "mimetype": "text/x-python",
   "name": "python",
   "nbconvert_exporter": "python",
   "pygments_lexer": "ipython3",
   "version": "3.6.10"
  },
  "latex_envs": {
   "LaTeX_envs_menu_present": true,
   "autoclose": false,
   "autocomplete": true,
   "bibliofile": "biblio.bib",
   "cite_by": "apalike",
   "current_citInitial": 1,
   "eqLabelWithNumbers": true,
   "eqNumInitial": 1,
   "hotkeys": {
    "equation": "Ctrl-E",
    "itemize": "Ctrl-I"
   },
   "labels_anchors": false,
   "latex_user_defs": false,
   "report_style_numbering": false,
   "user_envs_cfg": false
  }
 },
 "nbformat": 4,
 "nbformat_minor": 4
}
